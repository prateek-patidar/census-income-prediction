{
 "cells": [
  {
   "cell_type": "code",
   "execution_count": null,
   "metadata": {
    "collapsed": false
   },
   "outputs": [],
   "source": [
    "import numpy as np\n",
    "from numpy import exp,array,random,dot\n",
    "import pandas as pd\n",
    "from tqdm import *"
   ]
  },
  {
   "cell_type": "code",
   "execution_count": 2,
   "metadata": {
    "collapsed": true
   },
   "outputs": [],
   "source": [
    "def normalize(matrix):\n",
    "    n = matrix.shape[1]\n",
    "    norm_matrix = matrix\n",
    "\n",
    "    for i in range(n):\n",
    "        col_mean = np.mean(matrix[:,i])\n",
    "        col_stdv = np.std(matrix[:,i])\n",
    "    norm_matrix[:,i] = (norm_matrix[:,i] - col_mean) / col_stdv\n",
    "    return norm_matrix\n",
    "\n",
    "def normalize1(inputData):\n",
    "    return (inputData - inputData.mean()) / inputData.std()"
   ]
  },
  {
   "cell_type": "code",
   "execution_count": null,
   "metadata": {
    "collapsed": false
   },
   "outputs": [],
   "source": [
    "# Reading data from csv\n",
    "data = pd.read_csv(\"data/train.csv\")"
   ]
  },
  {
   "cell_type": "code",
   "execution_count": null,
   "metadata": {
    "collapsed": false
   },
   "outputs": [],
   "source": [
    "# Classifier data entries to dummy coloumns\n",
    "data = pd.get_dummies(data)\n",
    "#data.to_csv(\"data/data_afterdum.csv\", sep=',',header=True,index=False)"
   ]
  },
  {
   "cell_type": "code",
   "execution_count": null,
   "metadata": {
    "collapsed": false
   },
   "outputs": [],
   "source": [
    "# Spliting the data into Training data and Validation data\n",
    "train, validate = np.split(data.sample(frac=1), [int(.7*len(data))])\n",
    "print(len(train),len(validate))\n",
    "#print(train)\n",
    "#print(validate)"
   ]
  },
  {
   "cell_type": "code",
   "execution_count": 31,
   "metadata": {
    "collapsed": false
   },
   "outputs": [],
   "source": [
    "trn_ids = train[['id']]\n",
    "#print(train_ids)\n",
    "trn_y = train[['salary']]\n",
    "#print(train_y)\n",
    "trn_features = train.drop('id', axis=1)\n",
    "trn_features = trn_features.drop('salary', axis=1)\n",
    "trn_features = normalize1(trn_features)\n",
    "#print(trn_features)"
   ]
  },
  {
   "cell_type": "code",
   "execution_count": 6,
   "metadata": {
    "collapsed": true
   },
   "outputs": [],
   "source": [
    "vld_ids = validate[['id']]\n",
    "#print(valid_ids)\n",
    "vld_y = validate[['salary']]\n",
    "#print(train_y)\n",
    "vld_features = validate.drop('id', axis=1)\n",
    "vld_features = vld_features.drop('salary', axis=1)\n",
    "#print(trn_features)"
   ]
  },
  {
   "cell_type": "code",
   "execution_count": 7,
   "metadata": {
    "collapsed": false
   },
   "outputs": [],
   "source": [
    "test_data = pd.read_csv(\"data/test.csv\")\n",
    "test_data = pd.get_dummies(test_data)\n",
    "test_ids = test_data['id']\n",
    "#print(test_ids)\n",
    "tst_features = test_data.drop('id', axis=1)\n",
    "#print(tst_features)"
   ]
  },
  {
   "cell_type": "code",
   "execution_count": null,
   "metadata": {
    "collapsed": false
   },
   "outputs": [],
   "source": [
    "# Now Neural Network implementation starts\n",
    "\n",
    "# Activation functions\n",
    "def sigmoid(x):\n",
    "    return 1 / ( 1 + np.exp(-x))\n",
    "\n",
    "def derv_sigmoid(x):\n",
    "    return x * (1 - x)\n",
    "\n",
    "def tanh(x):\n",
    "        return np.tanh(x)\n",
    "\n",
    "def derv_tanh(x):\n",
    "        return (1.0 - np.square(np.tanh(x)))\n",
    "    \n",
    "# Method to create and initilialize a Neural Network\n",
    "def createNN():\n",
    "    return"
   ]
  },
  {
   "cell_type": "code",
   "execution_count": null,
   "metadata": {
    "collapsed": true
   },
   "outputs": [],
   "source": [
    "#forward propagation\n",
    "import math\n",
    "b1=0 #bias unit 1\n",
    "b2=0 #bias unit 2\n",
    "\n",
    "def softmax(x):  \n",
    "    sm = np.exp(x)/np.sum(np.exp(x), axis=0)\n",
    "    return sm\n",
    "    \n",
    "# input dataset with 3 features\n",
    "len_X = len(X) # training set size\n",
    "input_dim = 3 # input layer dimensionality\n",
    "output_dim = 1 # output layer dimensionality\n",
    "hidden_units=4\n",
    "  \n",
    "np.random.seed(22)\n",
    "# create random weight vectors\n",
    "theta0 = 2*np.random.random((input_dim, hidden_units))\n",
    "theta1 = 2*np.random.random((hidden_units, output_dim))\n",
    "\n",
    "# forward propagation pass\n",
    "d1 = X.dot(theta0)+b1\n",
    "l1=sigmoid(d1)\n",
    "l2 = l1.dot(theta1)+b2\n",
    "#let’s apply softmax to the output of the final layer\n",
    "output=softmax(l2)\n",
    "\n",
    "\n",
    "#backpropagation \n",
    "import numpy as np\n",
    "import math\n",
    "def sigmoid(x):      # sigmoid function\n",
    "\treturn 1 /(1+(math.e**-x))\n",
    "\n",
    "def deriv_sigmoid(y): #the derivative of the sigmoid function\n",
    "    return y * (1.0 - y)   \n",
    "    \n",
    "alpha=.1    #this is the learning rate\n",
    "X = np.array([  [.35,.21,.33],\n",
    "            \t[.2,.4,.3],\n",
    "            \t[.4,.34,.5],\n",
    "            \t[.18,.21,16] ])                \n",
    "y = np.array([[0],\n",
    "\t\t[1],\n",
    "\t\t[1],\n",
    "\t\t[0]])\n",
    "np.random.seed(1)\n",
    "#We randomly initialize the layers\n",
    "theta0 = 2*np.random.random((3,4)) - 1\n",
    "theta1 = 2*np.random.random((4,1)) - 1\n",
    "\n",
    "for iter in range(205000): #here we specify the amount of training rounds.\n",
    "\t# Feedforward the input like we did in the previous exercise\n",
    "    input_layer = X\n",
    "    l1 = sigmoid(np.dot(input_layer,theta0))\n",
    "    l2 = sigmoid(np.dot(l1,theta1))\n",
    "\n",
    "    # Calculate error \n",
    "    l2_error = y - l2\n",
    "    \n",
    "    if (iter% 1000) == 0:\n",
    "        print \"Neuralnet accuracy:\" + str(np.mean(1-(np.abs(l2_error))))\n",
    "        \n",
    "    # Calculate the gradients in vectorized form \n",
    "    # Softmax and bias units are left out for instructional simplicity\n",
    "    l2_delta = alpha*(l2_error*deriv_sigmoid(l2))\n",
    "    l1_error = l2_delta.dot(theta1.T)\n",
    "    l1_delta = alpha*(l1_error * deriv_sigmoid(l1))\n",
    "\n",
    "    theta1 += l1.T.dot(l2_delta)\n",
    "    theta0 += input_layer.T.dot(l1_delta)"
   ]
  },
  {
   "cell_type": "code",
   "execution_count": 1,
   "metadata": {
    "collapsed": false
   },
   "outputs": [
    {
     "ename": "NameError",
     "evalue": "name 'random' is not defined",
     "output_type": "error",
     "traceback": [
      "\u001b[0;31m---------------------------------------------------------------------------\u001b[0m",
      "\u001b[0;31mNameError\u001b[0m                                 Traceback (most recent call last)",
      "\u001b[0;32m<ipython-input-1-393ee17d7fc1>\u001b[0m in \u001b[0;36m<module>\u001b[0;34m()\u001b[0m\n\u001b[1;32m     54\u001b[0m \u001b[1;33m\u001b[0m\u001b[0m\n\u001b[1;32m     55\u001b[0m \u001b[1;31m# initialise single neuron neural network\u001b[0m\u001b[1;33m\u001b[0m\u001b[1;33m\u001b[0m\u001b[0m\n\u001b[0;32m---> 56\u001b[0;31m \u001b[0mneural_network\u001b[0m \u001b[1;33m=\u001b[0m \u001b[0mNeuralNetwork\u001b[0m\u001b[1;33m(\u001b[0m\u001b[1;33m)\u001b[0m\u001b[1;33m\u001b[0m\u001b[0m\n\u001b[0m\u001b[1;32m     57\u001b[0m \u001b[1;33m\u001b[0m\u001b[0m\n\u001b[1;32m     58\u001b[0m \u001b[0mprint\u001b[0m \u001b[1;33m(\u001b[0m\u001b[1;34m\"Random starting synaptic weights (layer 1): \"\u001b[0m\u001b[1;33m)\u001b[0m\u001b[1;33m\u001b[0m\u001b[0m\n",
      "\u001b[0;32m<ipython-input-1-393ee17d7fc1>\u001b[0m in \u001b[0;36m__init__\u001b[0;34m(self)\u001b[0m\n\u001b[1;32m      1\u001b[0m \u001b[1;32mclass\u001b[0m \u001b[0mNeuralNetwork\u001b[0m\u001b[1;33m(\u001b[0m\u001b[1;33m)\u001b[0m\u001b[1;33m:\u001b[0m\u001b[1;33m\u001b[0m\u001b[0m\n\u001b[1;32m      2\u001b[0m     \u001b[1;32mdef\u001b[0m \u001b[0m__init__\u001b[0m\u001b[1;33m(\u001b[0m\u001b[0mself\u001b[0m\u001b[1;33m)\u001b[0m\u001b[1;33m:\u001b[0m\u001b[1;33m\u001b[0m\u001b[0m\n\u001b[0;32m----> 3\u001b[0;31m         \u001b[0mrandom\u001b[0m\u001b[1;33m.\u001b[0m\u001b[0mseed\u001b[0m\u001b[1;33m(\u001b[0m\u001b[1;36m1\u001b[0m\u001b[1;33m)\u001b[0m\u001b[1;33m\u001b[0m\u001b[0m\n\u001b[0m\u001b[1;32m      4\u001b[0m \u001b[1;33m\u001b[0m\u001b[0m\n\u001b[1;32m      5\u001b[0m         \u001b[1;31m# setting the number of nodes in layer 2 and layer 3\u001b[0m\u001b[1;33m\u001b[0m\u001b[1;33m\u001b[0m\u001b[0m\n",
      "\u001b[0;31mNameError\u001b[0m: name 'random' is not defined"
     ]
    }
   ],
   "source": [
    "class NeuralNetwork():\n",
    "    def __init__(self):\n",
    "        random.seed(1)\n",
    "\n",
    "        # setting the number of nodes in layer 2 and layer 3\n",
    "        # more nodes --> more confidence in predictions (?)\n",
    "        l1_nodes=108\n",
    "        l2_nodes=10\n",
    "        l3_nodes=10\n",
    "        l4_nodes=1\n",
    "\n",
    "        # assign random weights to matrices in network\n",
    "        # format is (no. of nodes in previous layer) x (no. of nodes in following layer)\n",
    "        self.weights1 = 2 * random.random((l1_nodes, l2_nodes)) -1\n",
    "        self.weights2 = 2 * random.random((l2_nodes, l3_nodes)) -1\n",
    "        self.weights3 = 2 * random.random((l3_nodes, l4_nodes)) -1\n",
    "\n",
    "    # activation functions\n",
    "    def tanh(self,x):\n",
    "        return np.tanh(x)\n",
    "\n",
    "    def derv_tanh(self,x):\n",
    "        return (1.0 - np.square(np.tanh(x)))\n",
    "\n",
    "    # train neural network, adusting synaptic weights each time\n",
    "    def train(self, training_set_inputs, training_set_outputs, number_of_training_iterations):\n",
    "        training_set_outputs = training_set_outputs.T\n",
    "        for iteration in tqdm(range(number_of_training_iterations)):\n",
    "\n",
    "            # pass training set through our neural network i.e. feed fwd\n",
    "            # a2 means the activations fed to second layer\n",
    "            a2 = self.tanh(dot(training_set_inputs, self.weights1))\n",
    "            a3 = self.tanh(dot(a2, self.weights2))\n",
    "            output = self.tanh(dot(a3, self.weights3))\n",
    "\n",
    "            # calculate 'error'\n",
    "            del4 = (training_set_outputs - output)*self.derv_tanh(output)\n",
    "\n",
    "            # find 'errors' in each layer\n",
    "            del3 = dot(self.weights3, del4.T)*(self.derv_tanh(a3).T)\n",
    "            del2 = dot(self.weights2, del3)*(self.derv_tanh(a2).T)\n",
    "\n",
    "            # get adjustments (gradients) for each layer\n",
    "            adjustment3 = dot(a3.T, del4)\n",
    "            adjustment2 = dot(a2.T, del3.T)\n",
    "            adjustment1 = dot(training_set_inputs.T, del2.T)\n",
    "\n",
    "            # adjust weights accordingly\n",
    "            self.weights1 -= adjustment1\n",
    "            self.weights2 -= adjustment2\n",
    "            self.weights3 -= adjustment3\n",
    "        return\n",
    "\n",
    "\n",
    "# initialise single neuron neural network\n",
    "neural_network = NeuralNetwork()\n",
    "\n",
    "print (\"Random starting synaptic weights (layer 1): \")\n",
    "print (neural_network.weights1)\n",
    "print (\"\\nRandom starting synaptic weights (layer 2): \")\n",
    "print (neural_network.weights2)\n",
    "print (\"\\nRandom starting synaptic weights (layer 3): \")\n",
    "print (neural_network.weights3)\n",
    "\n",
    "# the training set.\n",
    "training_set_inputs = np.array(trn_features)\n",
    "training_set_outputs = np.array(trn_y.T)\n",
    "\n",
    "final_weights=neural_network.train(training_set_inputs, training_set_outputs,10)\n",
    "\n",
    "print (\"\\nNew synaptic weights (layer 1) after training: \")\n",
    "print (neural_network.weights1)\n",
    "print (\"\\nNew synaptic weights (layer 2) after training: \")\n",
    "print (neural_network.weights2)\n",
    "print (\"\\nNew synaptic weights (layer 3) after training: \")\n",
    "print (neural_network.weights3)\n",
    "\n",
    "\n"
   ]
  },
  {
   "cell_type": "code",
   "execution_count": 17,
   "metadata": {
    "collapsed": false
   },
   "outputs": [
    {
     "ename": "TypeError",
     "evalue": "unsupported operand type(s) for *: 'int' and 'NoneType'",
     "output_type": "error",
     "traceback": [
      "\u001b[0;31m---------------------------------------------------------------------------\u001b[0m",
      "\u001b[0;31mTypeError\u001b[0m                                 Traceback (most recent call last)",
      "\u001b[0;32m<ipython-input-17-69feb1d0c5e3>\u001b[0m in \u001b[0;36m<module>\u001b[0;34m()\u001b[0m\n\u001b[0;32m----> 1\u001b[0;31m \u001b[0mpredicted\u001b[0m\u001b[1;33m=\u001b[0m\u001b[0mdot\u001b[0m\u001b[1;33m(\u001b[0m\u001b[0mtst_features\u001b[0m\u001b[1;33m,\u001b[0m\u001b[0mfinal_weights\u001b[0m\u001b[1;33m)\u001b[0m\u001b[1;33m.\u001b[0m\u001b[0mastype\u001b[0m\u001b[1;33m(\u001b[0m\u001b[0mfloat\u001b[0m\u001b[1;33m)\u001b[0m\u001b[1;33m\u001b[0m\u001b[0m\n\u001b[0m",
      "\u001b[0;31mTypeError\u001b[0m: unsupported operand type(s) for *: 'int' and 'NoneType'"
     ]
    }
   ],
   "source": [
    "predicted=dot(tst_features,final_weights).astype(float)"
   ]
  },
  {
   "cell_type": "code",
   "execution_count": null,
   "metadata": {
    "collapsed": true
   },
   "outputs": [],
   "source": []
  }
 ],
 "metadata": {
  "kernelspec": {
   "display_name": "Python 3",
   "language": "python",
   "name": "python3"
  },
  "language_info": {
   "codemirror_mode": {
    "name": "ipython",
    "version": 3
   },
   "file_extension": ".py",
   "mimetype": "text/x-python",
   "name": "python",
   "nbconvert_exporter": "python",
   "pygments_lexer": "ipython3",
   "version": "3.6.0"
  }
 },
 "nbformat": 4,
 "nbformat_minor": 2
}
