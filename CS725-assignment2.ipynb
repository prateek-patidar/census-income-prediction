{
 "cells": [
  {
   "cell_type": "code",
   "execution_count": 21,
   "metadata": {
    "collapsed": true
   },
   "outputs": [],
   "source": [
    "import numpy as np\n",
    "from numpy import exp,array,random,dot\n",
    "import pandas as pd\n",
    "\n",
    "def sigmoid(x):\n",
    "    return 1/(1+np.exp(-x))\n",
    "\n",
    "def derv_sigmoid(x):\n",
    "    return x*(1-x)\n",
    "    "
   ]
  },
  {
   "cell_type": "code",
   "execution_count": 10,
   "metadata": {
    "collapsed": false
   },
   "outputs": [
    {
     "name": "stdout",
     "output_type": "stream",
     "text": [
      "[ 0.99929937]\n"
     ]
    }
   ],
   "source": [
    "train_set_ip = array([[0,0,1],[1,1,1],[1,0,1],[0,1,1]])\n",
    "train_set_op = array([[0,1,1,0]]).T\n",
    "\n",
    "random.seed(1)\n",
    "\n",
    "weights = 2 * random.random((3,1)) - 1\n",
    "\n",
    "for i in range(1000):\n",
    "    op = 1 / (1 + exp(-dot(train_set_ip,weights)))\n",
    "    weights = weights + dot(train_set_ip.T,(train_set_op - op) * op * (1-op))\n",
    "res = 1 / (1 + exp(-dot(array([1,0,0]),weights))) \n",
    "print(res)"
   ]
  },
  {
   "cell_type": "code",
   "execution_count": 46,
   "metadata": {
    "collapsed": false
   },
   "outputs": [],
   "source": [
    "data = pd.read_csv(\"data/train.csv\")"
   ]
  },
  {
   "cell_type": "code",
   "execution_count": 59,
   "metadata": {
    "collapsed": false
   },
   "outputs": [],
   "source": [
    "#Remove rows where workclass is unknown\n",
    "data.drop(data[\"workclass\"] == \" ?\")\n",
    "data[data.age != 25]\n",
    "data.head()\n",
    "\n",
    "data.to_csv(\"data/data1.csv\", sep=',',header=True,index=False)"
   ]
  },
  {
   "cell_type": "code",
   "execution_count": 34,
   "metadata": {
    "collapsed": true
   },
   "outputs": [],
   "source": [
    "#Classifier data entries to columns\n",
    "data = pd.get_dummies(data)\n",
    "data.to_csv(\"data/data_afterdum.csv\", sep=',',header=True,index=False)"
   ]
  },
  {
   "cell_type": "code",
   "execution_count": null,
   "metadata": {
    "collapsed": true
   },
   "outputs": [],
   "source": []
  }
 ],
 "metadata": {
  "kernelspec": {
   "display_name": "Python 3",
   "language": "python",
   "name": "python3"
  },
  "language_info": {
   "codemirror_mode": {
    "name": "ipython",
    "version": 3
   },
   "file_extension": ".py",
   "mimetype": "text/x-python",
   "name": "python",
   "nbconvert_exporter": "python",
   "pygments_lexer": "ipython3",
   "version": "3.6.0"
  }
 },
 "nbformat": 4,
 "nbformat_minor": 2
}
