{
 "cells": [
  {
   "cell_type": "code",
   "execution_count": 19,
   "metadata": {
    "collapsed": false
   },
   "outputs": [],
   "source": [
    "import numpy as np\n",
    "from numpy import exp,array,random,dot\n",
    "import pandas as pd\n",
    "from tqdm import *"
   ]
  },
  {
   "cell_type": "code",
   "execution_count": 24,
   "metadata": {
    "collapsed": true
   },
   "outputs": [],
   "source": [
    "def normalize(matrix):\n",
    "    n = matrix.shape[1]\n",
    "    norm_matrix = matrix\n",
    "\n",
    "    for i in range(n):\n",
    "        col_mean = np.mean(matrix[:,i])\n",
    "        col_stdv = np.std(matrix[:,i])\n",
    "    norm_matrix[:,i] = (norm_matrix[:,i] - col_mean) / col_stdv\n",
    "    return norm_matrix\n",
    "\n",
    "def normalize1(inputData):\n",
    "    return (inputData - inputData.mean()) / inputData.std()"
   ]
  },
  {
   "cell_type": "code",
   "execution_count": 2,
   "metadata": {
    "collapsed": false
   },
   "outputs": [],
   "source": [
    "# Reading data from csv\n",
    "data = pd.read_csv(\"data/train.csv\")"
   ]
  },
  {
   "cell_type": "code",
   "execution_count": 3,
   "metadata": {
    "collapsed": false
   },
   "outputs": [],
   "source": [
    "# Classifier data entries to dummy coloumns\n",
    "data = pd.get_dummies(data)\n",
    "#data.to_csv(\"data/data_afterdum.csv\", sep=',',header=True,index=False)"
   ]
  },
  {
   "cell_type": "code",
   "execution_count": 4,
   "metadata": {
    "collapsed": false
   },
   "outputs": [
    {
     "name": "stdout",
     "output_type": "stream",
     "text": [
      "27281 11692\n"
     ]
    }
   ],
   "source": [
    "# Spliting the data into Training data and Validation data\n",
    "train, validate = np.split(data.sample(frac=1), [int(.7*len(data))])\n",
    "print(len(train),len(validate))\n",
    "#print(train)\n",
    "#print(validate)"
   ]
  },
  {
   "cell_type": "code",
   "execution_count": 31,
   "metadata": {
    "collapsed": false
   },
   "outputs": [],
   "source": [
    "trn_ids = train[['id']]\n",
    "#print(train_ids)\n",
    "trn_y = train[['salary']]\n",
    "#print(train_y)\n",
    "trn_features = train.drop('id', axis=1)\n",
    "trn_features = trn_features.drop('salary', axis=1)\n",
    "trn_features = normalize1(trn_features)\n",
    "#print(trn_features)"
   ]
  },
  {
   "cell_type": "code",
   "execution_count": 6,
   "metadata": {
    "collapsed": true
   },
   "outputs": [],
   "source": [
    "vld_ids = validate[['id']]\n",
    "#print(valid_ids)\n",
    "vld_y = validate[['salary']]\n",
    "#print(train_y)\n",
    "vld_features = validate.drop('id', axis=1)\n",
    "vld_features = vld_features.drop('salary', axis=1)\n",
    "#print(trn_features)"
   ]
  },
  {
   "cell_type": "code",
   "execution_count": 7,
   "metadata": {
    "collapsed": false
   },
   "outputs": [],
   "source": [
    "test_data = pd.read_csv(\"data/test.csv\")\n",
    "test_data = pd.get_dummies(test_data)\n",
    "test_ids = test_data['id']\n",
    "#print(test_ids)\n",
    "tst_features = test_data.drop('id', axis=1)\n",
    "#print(tst_features)"
   ]
  },
  {
   "cell_type": "code",
   "execution_count": null,
   "metadata": {
    "collapsed": false
   },
   "outputs": [],
   "source": [
    "# Now Neural Network implementation starts\n",
    "\n",
    "# Activation functions\n",
    "def sigmoid(x):\n",
    "    return 1 / ( 1 + np.exp(-x))\n",
    "\n",
    "def derv_sigmoid(x):\n",
    "    return x * (1 - x)\n",
    "\n",
    "def tanh(x):\n",
    "        return np.tanh(x)\n",
    "\n",
    "def derv_tanh(x):\n",
    "        return (1.0 - np.square(np.tanh(x)))\n",
    "    \n",
    "# Method to create and initilialize a Neural Network\n",
    "def createNN():\n",
    "    return"
   ]
  },
  {
   "cell_type": "code",
   "execution_count": null,
   "metadata": {
    "collapsed": true
   },
   "outputs": [],
   "source": [
    "#forward propagation\n",
    "import math\n",
    "b1=0 #bias unit 1\n",
    "b2=0 #bias unit 2\n",
    "\n",
    "def softmax(x):  \n",
    "    sm = np.exp(x)/np.sum(np.exp(x), axis=0)\n",
    "    return sm\n",
    "    \n",
    "# input dataset with 3 features\n",
    "len_X = len(X) # training set size\n",
    "input_dim = 3 # input layer dimensionality\n",
    "output_dim = 1 # output layer dimensionality\n",
    "hidden_units=4\n",
    "  \n",
    "np.random.seed(22)\n",
    "# create random weight vectors\n",
    "theta0 = 2*np.random.random((input_dim, hidden_units))\n",
    "theta1 = 2*np.random.random((hidden_units, output_dim))\n",
    "\n",
    "# forward propagation pass\n",
    "d1 = X.dot(theta0)+b1\n",
    "l1=sigmoid(d1)\n",
    "l2 = l1.dot(theta1)+b2\n",
    "#let’s apply softmax to the output of the final layer\n",
    "output=softmax(l2)\n",
    "\n",
    "\n",
    "#backpropagation \n",
    "import numpy as np\n",
    "import math\n",
    "def sigmoid(x):      # sigmoid function\n",
    "\treturn 1 /(1+(math.e**-x))\n",
    "\n",
    "def deriv_sigmoid(y): #the derivative of the sigmoid function\n",
    "    return y * (1.0 - y)   \n",
    "    \n",
    "alpha=.1    #this is the learning rate\n",
    "X = np.array([  [.35,.21,.33],\n",
    "            \t[.2,.4,.3],\n",
    "            \t[.4,.34,.5],\n",
    "            \t[.18,.21,16] ])                \n",
    "y = np.array([[0],\n",
    "\t\t[1],\n",
    "\t\t[1],\n",
    "\t\t[0]])\n",
    "np.random.seed(1)\n",
    "#We randomly initialize the layers\n",
    "theta0 = 2*np.random.random((3,4)) - 1\n",
    "theta1 = 2*np.random.random((4,1)) - 1\n",
    "\n",
    "for iter in range(205000): #here we specify the amount of training rounds.\n",
    "\t# Feedforward the input like we did in the previous exercise\n",
    "    input_layer = X\n",
    "    l1 = sigmoid(np.dot(input_layer,theta0))\n",
    "    l2 = sigmoid(np.dot(l1,theta1))\n",
    "\n",
    "    # Calculate error \n",
    "    l2_error = y - l2\n",
    "    \n",
    "    if (iter% 1000) == 0:\n",
    "        print \"Neuralnet accuracy:\" + str(np.mean(1-(np.abs(l2_error))))\n",
    "        \n",
    "    # Calculate the gradients in vectorized form \n",
    "    # Softmax and bias units are left out for instructional simplicity\n",
    "    l2_delta = alpha*(l2_error*deriv_sigmoid(l2))\n",
    "    l1_error = l2_delta.dot(theta1.T)\n",
    "    l1_delta = alpha*(l1_error * deriv_sigmoid(l1))\n",
    "\n",
    "    theta1 += l1.T.dot(l2_delta)\n",
    "    theta0 += input_layer.T.dot(l1_delta)"
   ]
  },
  {
   "cell_type": "code",
   "execution_count": 37,
   "metadata": {
    "collapsed": false
   },
   "outputs": [
    {
     "name": "stdout",
     "output_type": "stream",
     "text": [
      "Random starting synaptic weights (layer 1): \n",
      "[[-0.16595599  0.44064899 -0.99977125 ..., -0.30887855 -0.20646505\n",
      "   0.07763347]\n",
      " [-0.16161097  0.370439   -0.5910955  ...,  0.11737966 -0.71922612\n",
      "  -0.60379702]\n",
      " [ 0.60148914  0.93652315 -0.37315164 ..., -0.92189043 -0.66033916\n",
      "   0.75628501]\n",
      " ..., \n",
      " [-0.52837073  0.88165593  0.3684361  ...,  0.4647498  -0.49312192\n",
      "   0.20097791]\n",
      " [ 0.62923836 -0.89177268 -0.73897866 ..., -0.40984285  0.74537233\n",
      "  -0.15666813]\n",
      " [-0.87113949  0.79397014 -0.59323833 ...,  0.05453491  0.24964259\n",
      "   0.71008344]]\n",
      "\n",
      "Random starting synaptic weights (layer 2): \n",
      "[[-0.4357211   0.76751102  0.13538066 -0.76979392 -0.54599767  0.19196477\n",
      "  -0.52110753 -0.73716868 -0.67630457  0.68974504]\n",
      " [ 0.20436731  0.92713417 -0.30864157  0.1912502   0.19797058  0.23140857\n",
      "  -0.88164559  0.50063437  0.896419    0.06935811]\n",
      " [-0.61488796  0.50585183 -0.98536206 -0.34348779  0.8352127   0.17673467\n",
      "   0.71038057  0.2093441   0.64515631  0.75896705]\n",
      " [-0.35802725 -0.75409046  0.44260669 -0.11930583 -0.74652858  0.1796473\n",
      "  -0.92786337 -0.59963577  0.57660238 -0.97580648]\n",
      " [-0.39330866 -0.95724808  0.99496999  0.16405995 -0.41324744  0.85789892\n",
      "   0.01423885 -0.09061554  0.17574301 -0.47172471]\n",
      " [-0.3894234  -0.25669085 -0.511104    0.16909453  0.39169227 -0.85610556\n",
      "   0.94216664  0.50614131  0.61232633  0.50328081]\n",
      " [-0.83987805 -0.03660743 -0.10865409  0.3449453  -0.10252548  0.4086268\n",
      "   0.36329068  0.39429706  0.23720149 -0.69803853]\n",
      " [ 0.52160491  0.56209164  0.80820597 -0.53246261 -0.64664221 -0.21780175\n",
      "  -0.35887069  0.63095386  0.2270518   0.5200035 ]\n",
      " [-0.1446698  -0.80111887 -0.76992998 -0.25318574 -0.61230446  0.641493\n",
      "   0.19927202  0.37769052 -0.01778008 -0.82365264]\n",
      " [-0.52984473 -0.07679584 -0.60281699 -0.94904753  0.4587954   0.44983349\n",
      "  -0.33921651  0.68698825 -0.14311505  0.72937229]]\n",
      "\n",
      "Random starting synaptic weights (layer 3): \n",
      "[[ 0.31413085]\n",
      " [ 0.16207131]\n",
      " [-0.59854502]\n",
      " [ 0.05909322]\n",
      " [ 0.78886484]\n",
      " [-0.39001205]\n",
      " [ 0.74189122]\n",
      " [ 0.81749055]\n",
      " [-0.34031087]\n",
      " [ 0.36614873]]\n"
     ]
    },
    {
     "name": "stderr",
     "output_type": "stream",
     "text": [
      "\n",
      "  0%|                                                   | 0/10 [00:00<?, ?it/s]\n",
      " 10%|████▎                                      | 1/10 [00:00<00:01,  8.06it/s]\n",
      " 20%|████████▌                                  | 2/10 [00:00<00:00,  8.40it/s]\n",
      " 30%|████████████▉                              | 3/10 [00:00<00:00,  8.73it/s]\n",
      " 40%|█████████████████▏                         | 4/10 [00:00<00:00,  8.76it/s]\n",
      " 50%|█████████████████████▌                     | 5/10 [00:00<00:00,  8.69it/s]\n",
      " 60%|█████████████████████████▊                 | 6/10 [00:00<00:00,  8.70it/s]\n",
      " 70%|██████████████████████████████             | 7/10 [00:00<00:00,  7.52it/s]\n",
      " 80%|██████████████████████████████████▍        | 8/10 [00:01<00:00,  7.32it/s]\n",
      " 90%|██████████████████████████████████████▋    | 9/10 [00:01<00:00,  7.90it/s]\n",
      "100%|██████████████████████████████████████████| 10/10 [00:01<00:00,  6.87it/s]\n"
     ]
    },
    {
     "name": "stdout",
     "output_type": "stream",
     "text": [
      "\n",
      "New synaptic weights (layer 1) after training: \n",
      "[[ -3.23221422e+15   1.98835548e+14   3.21097605e+15 ...,   4.99147398e+14\n",
      "    4.35315539e+14   3.23234179e+15]\n",
      " [  1.15482660e+14   3.90175179e+14  -1.13451546e+14 ...,   3.69427318e+14\n",
      "    3.72884424e+14  -1.15495147e+14]\n",
      " [ -1.99622339e+15   5.50108902e+15   1.99496412e+15 ...,   5.61673264e+15\n",
      "    5.58118120e+15   1.99622794e+15]\n",
      " ..., \n",
      " [ -8.23785505e+13   8.26333506e+14   8.34842045e+13 ...,   8.24651697e+14\n",
      "    8.23553818e+14   8.23716562e+13]\n",
      " [  1.12024485e+14  -1.88782604e+14  -1.11786369e+14 ...,  -1.95736048e+14\n",
      "   -1.93833975e+14  -1.12025770e+14]\n",
      " [  2.95006669e+13  -1.01058052e+13  -2.93178388e+13 ...,  -1.28621852e+13\n",
      "   -1.22553705e+13  -2.95017547e+13]]\n",
      "\n",
      "New synaptic weights (layer 2) after training: \n",
      "[[  6.01077952e+07   8.09392993e+07  -7.63886139e+07   3.83669572e+06\n",
      "    7.64144571e+07  -8.37151771e+07   8.23057991e+07   7.55490249e+07\n",
      "   -1.05173332e+07   7.76345250e+07]\n",
      " [ -2.80958716e+08   2.79196927e+07  -2.50561644e+07  -1.50047723e+08\n",
      "    2.50683266e+07  -2.96639490e+07   2.87886008e+07   2.45328865e+07\n",
      "    1.45835044e+08   2.58348366e+07]\n",
      " [ -6.00419284e+07  -8.05230499e+07   7.59028684e+07  -3.85053155e+06\n",
      "   -7.59293568e+07   8.33417296e+07  -8.19118468e+07  -7.50519534e+07\n",
      "    1.06342441e+07  -7.71673777e+07]\n",
      " [  6.00145625e+07   8.03911903e+07  -7.57490957e+07   3.84622810e+06\n",
      "    7.57758137e+07  -8.32269514e+07   8.17888507e+07   7.48941940e+07\n",
      "   -1.06652621e+07   7.70233244e+07]\n",
      " [  6.00661476e+07   8.06761655e+07  -7.60836392e+07   3.85329142e+06\n",
      "    7.61106699e+07  -8.34783588e+07   8.20576169e+07   7.52380872e+07\n",
      "   -1.05970282e+07   7.73407283e+07]\n",
      " [ -6.00365795e+07  -8.04988197e+07   7.58744392e+07  -3.84450785e+06\n",
      "   -7.59017433e+07   8.33208386e+07  -8.18905155e+07  -7.50230403e+07\n",
      "    1.06364107e+07  -7.71398248e+07]\n",
      " [  6.02141881e+07   8.29953524e+07  -7.88480042e+07   3.38881249e+06\n",
      "    7.88731045e+07  -8.55255661e+07   8.42361472e+07   7.80812259e+07\n",
      "   -9.47250045e+06   7.99851590e+07]\n",
      " [ -2.85836690e+08   2.45826223e+07  -2.07455419e+07  -1.49091620e+08\n",
      "    2.07619975e+07  -2.69209026e+07   2.57498171e+07   2.00461483e+07\n",
      "    1.43445430e+08   2.17895747e+07]\n",
      " [ -2.84660292e+08   2.49509085e+07  -2.12832785e+07  -1.49488131e+08\n",
      "    2.12979935e+07  -2.71860735e+07   2.60671624e+07   2.06139789e+07\n",
      "    1.44089505e+08   2.22802055e+07]\n",
      " [ -6.01085236e+07  -8.09416620e+07   7.63913015e+07  -3.83651111e+06\n",
      "   -7.64173898e+07   8.37174665e+07  -8.23084793e+07  -7.55522507e+07\n",
      "    1.05165531e+07  -7.76370347e+07]]\n",
      "\n",
      "New synaptic weights (layer 3) after training: \n",
      "[[ 5207.17495814]\n",
      " [ 8772.74943798]\n",
      " [-7903.08256874]\n",
      " [ 5902.537038  ]\n",
      " [ 7915.74404132]\n",
      " [-9305.44001124]\n",
      " [ 9010.37351476]\n",
      " [ 7731.90952964]\n",
      " [-7156.51688678]\n",
      " [ 8151.45254875]]\n"
     ]
    }
   ],
   "source": [
    "class NeuralNetwork():\n",
    "    def __init__(self):\n",
    "        random.seed(1)\n",
    "\n",
    "        # setting the number of nodes in layer 2 and layer 3\n",
    "        # more nodes --> more confidence in predictions (?)\n",
    "        l1_nodes=108\n",
    "        l2_nodes=10\n",
    "        l3_nodes=10\n",
    "        l4_nodes=1\n",
    "\n",
    "        # assign random weights to matrices in network\n",
    "        # format is (no. of nodes in previous layer) x (no. of nodes in following layer)\n",
    "        self.weights1 = 2 * random.random((l1_nodes, l2_nodes)) -1\n",
    "        self.weights2 = 2 * random.random((l2_nodes, l3_nodes)) -1\n",
    "        self.weights3 = 2 * random.random((l3_nodes, l4_nodes)) -1\n",
    "\n",
    "    # activation functions\n",
    "    def tanh(self,x):\n",
    "        return np.tanh(x)\n",
    "\n",
    "    def derv_tanh(self,x):\n",
    "        return (1.0 - np.square(np.tanh(x)))\n",
    "\n",
    "    # train neural network, adusting synaptic weights each time\n",
    "    def train(self, training_set_inputs, training_set_outputs, number_of_training_iterations):\n",
    "        training_set_outputs = training_set_outputs.T\n",
    "        for iteration in tqdm(range(number_of_training_iterations)):\n",
    "\n",
    "            # pass training set through our neural network i.e. feed fwd\n",
    "            # a2 means the activations fed to second layer\n",
    "            a2 = self.tanh(dot(training_set_inputs, self.weights1))\n",
    "            a3 = self.tanh(dot(a2, self.weights2))\n",
    "            output = self.tanh(dot(a3, self.weights3))\n",
    "\n",
    "            # calculate 'error'\n",
    "            del4 = (training_set_outputs - output)*self.derv_tanh(output)\n",
    "\n",
    "            # find 'errors' in each layer\n",
    "            del3 = dot(self.weights3, del4.T)*(self.derv_tanh(a3).T)\n",
    "            del2 = dot(self.weights2, del3)*(self.derv_tanh(a2).T)\n",
    "\n",
    "            # get adjustments (gradients) for each layer\n",
    "            adjustment3 = dot(a3.T, del4)\n",
    "            adjustment2 = dot(a2.T, del3.T)\n",
    "            adjustment1 = dot(training_set_inputs.T, del2.T)\n",
    "\n",
    "            # adjust weights accordingly\n",
    "            self.weights1 -= adjustment1\n",
    "            self.weights2 -= adjustment2\n",
    "            self.weights3 -= adjustment3\n",
    "        return\n",
    "\n",
    "\n",
    "# initialise single neuron neural network\n",
    "neural_network = NeuralNetwork()\n",
    "\n",
    "print (\"Random starting synaptic weights (layer 1): \")\n",
    "print (neural_network.weights1)\n",
    "print (\"\\nRandom starting synaptic weights (layer 2): \")\n",
    "print (neural_network.weights2)\n",
    "print (\"\\nRandom starting synaptic weights (layer 3): \")\n",
    "print (neural_network.weights3)\n",
    "\n",
    "# the training set.\n",
    "training_set_inputs = np.array(trn_features)\n",
    "training_set_outputs = np.array(trn_y.T)\n",
    "\n",
    "final_weights=neural_network.train(training_set_inputs, training_set_outputs,10)\n",
    "\n",
    "print (\"\\nNew synaptic weights (layer 1) after training: \")\n",
    "print (neural_network.weights1)\n",
    "print (\"\\nNew synaptic weights (layer 2) after training: \")\n",
    "print (neural_network.weights2)\n",
    "print (\"\\nNew synaptic weights (layer 3) after training: \")\n",
    "print (neural_network.weights3)\n",
    "\n",
    "\n"
   ]
  },
  {
   "cell_type": "code",
   "execution_count": 17,
   "metadata": {
    "collapsed": false
   },
   "outputs": [
    {
     "ename": "TypeError",
     "evalue": "unsupported operand type(s) for *: 'int' and 'NoneType'",
     "output_type": "error",
     "traceback": [
      "\u001b[0;31m---------------------------------------------------------------------------\u001b[0m",
      "\u001b[0;31mTypeError\u001b[0m                                 Traceback (most recent call last)",
      "\u001b[0;32m<ipython-input-17-69feb1d0c5e3>\u001b[0m in \u001b[0;36m<module>\u001b[0;34m()\u001b[0m\n\u001b[0;32m----> 1\u001b[0;31m \u001b[0mpredicted\u001b[0m\u001b[1;33m=\u001b[0m\u001b[0mdot\u001b[0m\u001b[1;33m(\u001b[0m\u001b[0mtst_features\u001b[0m\u001b[1;33m,\u001b[0m\u001b[0mfinal_weights\u001b[0m\u001b[1;33m)\u001b[0m\u001b[1;33m.\u001b[0m\u001b[0mastype\u001b[0m\u001b[1;33m(\u001b[0m\u001b[0mfloat\u001b[0m\u001b[1;33m)\u001b[0m\u001b[1;33m\u001b[0m\u001b[0m\n\u001b[0m",
      "\u001b[0;31mTypeError\u001b[0m: unsupported operand type(s) for *: 'int' and 'NoneType'"
     ]
    }
   ],
   "source": [
    "predicted=dot(tst_features,final_weights).astype(float)"
   ]
  },
  {
   "cell_type": "code",
   "execution_count": null,
   "metadata": {
    "collapsed": true
   },
   "outputs": [],
   "source": []
  }
 ],
 "metadata": {
  "kernelspec": {
   "display_name": "Python 3",
   "language": "python",
   "name": "python3"
  },
  "language_info": {
   "codemirror_mode": {
    "name": "ipython",
    "version": 3
   },
   "file_extension": ".py",
   "mimetype": "text/x-python",
   "name": "python",
   "nbconvert_exporter": "python",
   "pygments_lexer": "ipython3",
   "version": "3.6.0"
  }
 },
 "nbformat": 4,
 "nbformat_minor": 2
}
